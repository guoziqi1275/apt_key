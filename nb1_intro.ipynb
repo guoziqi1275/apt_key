{
 "cells": [
  {
   "cell_type": "markdown",
   "metadata": {},
   "source": [
    "# Notebook 1: Coding Basics"
   ]
  },
  {
   "cell_type": "markdown",
   "metadata": {},
   "source": [
    "### 1 Object Types"
   ]
  },
  {
   "cell_type": "markdown",
   "metadata": {},
   "source": [
    "#### 1.1 Numeric Types"
   ]
  },
  {
   "cell_type": "code",
   "execution_count": 3,
   "metadata": {},
   "outputs": [
    {
     "name": "stdout",
     "output_type": "stream",
     "text": [
      "42\n"
     ]
    }
   ],
   "source": [
    "# integer - a whole number\n",
    "age = 42\n",
    "print(age)"
   ]
  },
  {
   "cell_type": "code",
   "execution_count": 6,
   "metadata": {},
   "outputs": [
    {
     "name": "stdout",
     "output_type": "stream",
     "text": [
      "3.14159\n"
     ]
    }
   ],
   "source": [
    "# float - a number with a decimal point\n",
    "pi = 3.14159\n",
    "print(pi)"
   ]
  },
  {
   "cell_type": "code",
   "execution_count": 1,
   "metadata": {},
   "outputs": [
    {
     "name": "stdout",
     "output_type": "stream",
     "text": [
      "2.5\n"
     ]
    }
   ],
   "source": [
    "# can do math with integers and floats\n",
    "math = 1 + 2 * 3 / 4\n",
    "print(math)"
   ]
  },
  {
   "cell_type": "markdown",
   "metadata": {},
   "source": [
    "#### 1.2 Boolean Types"
   ]
  },
  {
   "cell_type": "code",
   "execution_count": 7,
   "metadata": {},
   "outputs": [
    {
     "name": "stdout",
     "output_type": "stream",
     "text": [
      "True\n"
     ]
    }
   ],
   "source": [
    "# boolean - a value that is either True or False\n",
    "is_true = True\n",
    "is_false = False\n",
    "print(is_true)"
   ]
  },
  {
   "cell_type": "markdown",
   "metadata": {},
   "source": [
    "#### 1.3 Sequence Types"
   ]
  },
  {
   "cell_type": "markdown",
   "metadata": {},
   "source": [
    "Strings - sequence of characters"
   ]
  },
  {
   "cell_type": "code",
   "execution_count": 1,
   "metadata": {},
   "outputs": [
    {
     "name": "stdout",
     "output_type": "stream",
     "text": [
      "abc\n",
      "Hello, World!\n"
     ]
    }
   ],
   "source": [
    "# string - a sequence of characters\n",
    "abc = \"abc\"\n",
    "greeting = \"Hello, World!\"\n",
    "print(abc)\n",
    "print(greeting)"
   ]
  },
  {
   "cell_type": "code",
   "execution_count": 5,
   "metadata": {},
   "outputs": [
    {
     "name": "stdout",
     "output_type": "stream",
     "text": [
      "42 42\n",
      "False\n"
     ]
    }
   ],
   "source": [
    "# Be careful with numbers, as integers and strings are not compatible\n",
    "age1 = \"42\"\n",
    "print(age, age1)\n",
    "print(age == age1)"
   ]
  },
  {
   "cell_type": "code",
   "execution_count": 2,
   "metadata": {},
   "outputs": [
    {
     "name": "stdout",
     "output_type": "stream",
     "text": [
      "True\n",
      "False\n"
     ]
    }
   ],
   "source": [
    "# case sensitive\n",
    "print(\"Hi\" == \"Hi\")\n",
    "print(\"Hi\" == \"hi\")"
   ]
  },
  {
   "cell_type": "markdown",
   "metadata": {},
   "source": [
    "Lists - ordered, mutable (changeable), sequence of items (strings, ints, floats, etc.)"
   ]
  },
  {
   "cell_type": "code",
   "execution_count": 3,
   "metadata": {},
   "outputs": [
    {
     "name": "stdout",
     "output_type": "stream",
     "text": [
      "['Hi', 'Hello', 'World']\n",
      "Hi\n",
      "[1, 2, 3, 4, 5]\n",
      "[1, 'Hi', 3.14, True]\n"
     ]
    }
   ],
   "source": [
    "words = [\"Hi\", \"Hello\", \"World\"]\n",
    "print(words)\n",
    "# can index to get specific elements\n",
    "print(words[0])\n",
    "\n",
    "numbers = [1, 2, 3, 4, 5]\n",
    "print(numbers)\n",
    "\n",
    "# can mix types in a list\n",
    "mixed = [1, \"Hi\", 3.14, True]\n",
    "print(mixed)"
   ]
  },
  {
   "cell_type": "markdown",
   "metadata": {},
   "source": [
    "#### 1.4 Mapping"
   ]
  },
  {
   "cell_type": "code",
   "execution_count": 4,
   "metadata": {},
   "outputs": [
    {
     "name": "stdout",
     "output_type": "stream",
     "text": [
      "{'name': 'Alice', 'age': 42}\n"
     ]
    }
   ],
   "source": [
    "# dictionaries - a collection of key-value pairs\n",
    "person = {\"name\": \"Alice\", \"age\": 42}\n",
    "print(person)"
   ]
  },
  {
   "cell_type": "code",
   "execution_count": 7,
   "metadata": {},
   "outputs": [
    {
     "name": "stdout",
     "output_type": "stream",
     "text": [
      "{'name': ['Alice', 'Bob', 'Charlie'], 'age': [42, 13, 23]}\n"
     ]
    }
   ],
   "source": [
    "# dictionaries can be easily converted in to dataframes with the pandas \n",
    "names = [\"Alice\", \"Bob\", \"Charlie\"]\n",
    "ages = [42, 13, 23]\n",
    "people = {\"name\": names, \"age\": ages}\n",
    "print(people)"
   ]
  },
  {
   "cell_type": "code",
   "execution_count": 9,
   "metadata": {},
   "outputs": [
    {
     "name": "stdout",
     "output_type": "stream",
     "text": [
      "      name  age\n",
      "0    Alice   42\n",
      "1      Bob   13\n",
      "2  Charlie   23\n"
     ]
    }
   ],
   "source": [
    "import pandas as pd\n",
    "df = pd.DataFrame(people)\n",
    "print(df)"
   ]
  },
  {
   "cell_type": "markdown",
   "metadata": {},
   "source": [
    "#### 1.5 Storing objects - variables"
   ]
  },
  {
   "cell_type": "code",
   "execution_count": 10,
   "metadata": {},
   "outputs": [
    {
     "name": "stdout",
     "output_type": "stream",
     "text": [
      "Hello, World!\n"
     ]
    }
   ],
   "source": [
    "# variable - a name that refers to a value\n",
    "message = \"Hello, World!\"\n",
    "print(message)\n",
    "\n",
    "# variable names can contain letters, numbers, and underscores\n",
    "# but they cannot start with a number\n",
    "# and they cannot be a reserved word\n",
    "# and they cannot contain spaces\n",
    "# and they cannot contain special characters"
   ]
  },
  {
   "cell_type": "markdown",
   "metadata": {},
   "source": [
    "### 2 Operations on Variables"
   ]
  },
  {
   "cell_type": "code",
   "execution_count": 2,
   "metadata": {},
   "outputs": [
    {
     "name": "stdout",
     "output_type": "stream",
     "text": [
      "Hello, Alice!\n"
     ]
    }
   ],
   "source": [
    "# string concatenation\n",
    "name = \"Alice\"\n",
    "greeting = \"Hello, \" + name + \"!\"\n",
    "print(greeting)"
   ]
  },
  {
   "cell_type": "code",
   "execution_count": 11,
   "metadata": {},
   "outputs": [
    {
     "name": "stdout",
     "output_type": "stream",
     "text": [
      "3 2 6 3.0 8\n"
     ]
    }
   ],
   "source": [
    "# math\n",
    "sum = 1 + 2\n",
    "difference = 5 - 3\n",
    "product = 2 * 3\n",
    "quotient = 6 / 2\n",
    "power = 2 ** 3\n",
    "print(sum, difference, product, quotient, power)"
   ]
  },
  {
   "cell_type": "code",
   "execution_count": 12,
   "metadata": {},
   "outputs": [
    {
     "name": "stdout",
     "output_type": "stream",
     "text": [
      "True\n",
      "False\n",
      "True\n",
      "True\n",
      "True\n",
      "True\n"
     ]
    }
   ],
   "source": [
    "# comparison\n",
    "print(1 == 1)\n",
    "print(1 != 1)\n",
    "print(1 < 2)\n",
    "print(1 <= 2)\n",
    "print(2 > 1)\n",
    "print(2 >= 1)"
   ]
  },
  {
   "cell_type": "markdown",
   "metadata": {},
   "source": [
    "### 3 If Else statements\n",
    "Allow you to set conditions"
   ]
  },
  {
   "cell_type": "code",
   "execution_count": 13,
   "metadata": {},
   "outputs": [
    {
     "name": "stdout",
     "output_type": "stream",
     "text": [
      "Buy it!\n"
     ]
    }
   ],
   "source": [
    "budget = 100\n",
    "price = 50\n",
    "\n",
    "if price <= budget:\n",
    "    print(\"Buy it!\")\n",
    "else:\n",
    "    print(\"Don't buy it!\")"
   ]
  },
  {
   "cell_type": "code",
   "execution_count": 14,
   "metadata": {},
   "outputs": [
    {
     "name": "stdout",
     "output_type": "stream",
     "text": [
      "Don't buy it!\n"
     ]
    }
   ],
   "source": [
    "price = 150\n",
    "\n",
    "if price <= budget:\n",
    "    print(\"Buy it!\")\n",
    "else:\n",
    "    print(\"Don't buy it!\")"
   ]
  },
  {
   "cell_type": "markdown",
   "metadata": {},
   "source": [
    "### 4 Functions\n",
    "Allow you to save processes when you repeat code"
   ]
  },
  {
   "cell_type": "code",
   "execution_count": 15,
   "metadata": {},
   "outputs": [],
   "source": [
    "def price_check(price, budget):  # put input variables here\n",
    "    if price <= budget:\n",
    "        print(\"Buy it!\")\n",
    "    else:\n",
    "        print(\"Don't buy it!\")"
   ]
  },
  {
   "cell_type": "code",
   "execution_count": 16,
   "metadata": {},
   "outputs": [
    {
     "name": "stdout",
     "output_type": "stream",
     "text": [
      "Buy it!\n",
      "Don't buy it!\n"
     ]
    }
   ],
   "source": [
    "price_check(50, 100)\n",
    "price_check(150, 100)"
   ]
  },
  {
   "cell_type": "code",
   "execution_count": 17,
   "metadata": {},
   "outputs": [],
   "source": [
    "# can also add an output\n",
    "def price_check(price, budget):  # put input variables here\n",
    "    if price <= budget:\n",
    "        print(\"Buy it!\")\n",
    "    else:\n",
    "        print(\"Don't buy it!\")\n",
    "    return budget - price\n",
    "    "
   ]
  },
  {
   "cell_type": "code",
   "execution_count": 18,
   "metadata": {},
   "outputs": [
    {
     "name": "stdout",
     "output_type": "stream",
     "text": [
      "Buy it!\n",
      "50\n"
     ]
    }
   ],
   "source": [
    "leftover = price_check(50, 100)\n",
    "print(leftover)"
   ]
  },
  {
   "cell_type": "code",
   "execution_count": 19,
   "metadata": {},
   "outputs": [
    {
     "name": "stdout",
     "output_type": "stream",
     "text": [
      "Don't buy it!\n",
      "-50\n"
     ]
    }
   ],
   "source": [
    "leftover = price_check(150, 100)\n",
    "print(leftover)"
   ]
  },
  {
   "cell_type": "markdown",
   "metadata": {},
   "source": [
    "### 4 For loops\n",
    "Allows you to iteratively loop through different variables, items, values to repeat processes"
   ]
  },
  {
   "cell_type": "code",
   "execution_count": 21,
   "metadata": {},
   "outputs": [
    {
     "name": "stdout",
     "output_type": "stream",
     "text": [
      "Buy it!\n",
      "You have 50 left.\n",
      "Don't buy it!\n",
      "You have -50 left.\n",
      "Buy it!\n",
      "You have 0 left.\n",
      "Buy it!\n",
      "You have 25 left.\n"
     ]
    }
   ],
   "source": [
    "prices = [50, 150, 100, 75]\n",
    "budget = 100\n",
    "\n",
    "for price in prices:\n",
    "    leftover = price_check(price, budget)\n",
    "    print(\"You have\", leftover, \"left.\")"
   ]
  },
  {
   "cell_type": "markdown",
   "metadata": {},
   "source": [
    "A note on 'syntax'\n",
    "\n",
    "All the variables we have used above are meaningful, they're named to reference what information they store. That doesn't matter to Python, but matters to humans"
   ]
  },
  {
   "cell_type": "code",
   "execution_count": 22,
   "metadata": {},
   "outputs": [
    {
     "name": "stdout",
     "output_type": "stream",
     "text": [
      "Iterating through a range\n",
      "0\n",
      "1\n",
      "2\n",
      "3\n",
      "4\n",
      "Iterating through a list\n",
      "0\n",
      "1\n",
      "2\n",
      "3\n",
      "4\n",
      "Iterating through a string\n",
      "a\n",
      "b\n",
      "c\n",
      "d\n",
      "e\n",
      "Iterating through a list of strings\n",
      "Alice\n",
      "Bob\n",
      "Charlie\n"
     ]
    }
   ],
   "source": [
    "# in for loops, often we just want to iterate through a sequence\n",
    "# Let's see what the for x in y syntax looks like\n",
    "\n",
    "print(\"Iterating through a range\")\n",
    "for i in range(5):\n",
    "    print(i)\n",
    "\n",
    "print(\"Iterating through a list\")\n",
    "for i in [0, 1, 2, 3, 4]:\n",
    "    print(i)\n",
    "\n",
    "print(\"Iterating through a string\")\n",
    "for letter in \"abcde\":\n",
    "    print(letter)\n",
    "\n",
    "# we can also iterate through a list of strings\n",
    "print(\"Iterating through a list of strings\")\n",
    "for name in [\"Alice\", \"Bob\", \"Charlie\"]:\n",
    "    print(name)"
   ]
  },
  {
   "cell_type": "markdown",
   "metadata": {},
   "source": [
    "### 5 Using AI to code"
   ]
  },
  {
   "cell_type": "markdown",
   "metadata": {},
   "source": [
    "Learning to code is super helpful but you can also do a lot just using English and an AI assistant to code.\n",
    "\n",
    "The more you know to code the easier it will be to troubleshoot but you can still get a long way as a beginner."
   ]
  },
  {
   "cell_type": "markdown",
   "metadata": {},
   "source": [
    "“I want python code that will find all the prime numbers less than 100.”"
   ]
  },
  {
   "cell_type": "code",
   "execution_count": 1,
   "metadata": {},
   "outputs": [
    {
     "name": "stdout",
     "output_type": "stream",
     "text": [
      "Prime numbers less than 100: [2, 3, 5, 7, 11, 13, 17, 19, 23, 29, 31, 37, 41, 43, 47, 53, 59, 61, 67, 71, 73, 79, 83, 89, 97]\n"
     ]
    }
   ],
   "source": [
    "def is_prime(n):\n",
    "    if n < 2:\n",
    "        return False\n",
    "    for i in range(2, int(n**0.5) + 1):\n",
    "        if n % i == 0:\n",
    "            return False\n",
    "    return True\n",
    "\n",
    "primes = [num for num in range(2, 100) if is_prime(num)]\n",
    "print(\"Prime numbers less than 100:\", primes)"
   ]
  },
  {
   "cell_type": "markdown",
   "metadata": {},
   "source": [
    "Explanation:\n",
    "- is_prime(n) checks if a number n is prime by verifying that it's not divisible by any number from 2 to its square root.\n",
    "- The list comprehension generates a list of prime numbers less than 100."
   ]
  },
  {
   "cell_type": "markdown",
   "metadata": {},
   "source": []
  }
 ],
 "metadata": {
  "kernelspec": {
   "display_name": "Python 3",
   "language": "python",
   "name": "python3"
  },
  "language_info": {
   "codemirror_mode": {
    "name": "ipython",
    "version": 3
   },
   "file_extension": ".py",
   "mimetype": "text/x-python",
   "name": "python",
   "nbconvert_exporter": "python",
   "pygments_lexer": "ipython3",
   "version": "3.11.7"
  }
 },
 "nbformat": 4,
 "nbformat_minor": 2
}
