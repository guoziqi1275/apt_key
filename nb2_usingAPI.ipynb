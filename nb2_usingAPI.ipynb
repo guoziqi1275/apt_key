{
 "cells": [
  {
   "cell_type": "markdown",
   "metadata": {},
   "source": [
    "# Notebook 2: Using an API to Query a Model"
   ]
  },
  {
   "cell_type": "markdown",
   "metadata": {},
   "source": [
    "In this tutorial, we'll cover how to use OpenAI's API to call a GPT model. We will then use the API to administer the RMET to GPT-4!\n",
    "\n",
    "**Make sure to download the necessary zip file and upload it to JupyterLab before running this script**"
   ]
  },
  {
   "cell_type": "code",
   "execution_count": 1,
   "metadata": {},
   "outputs": [],
   "source": [
    "import os\n",
    "\n",
    "# make sure nb2_files.zip exists\n",
    "if not os.path.exists('nb2_files.zip'):\n",
    "    print('nb2_files.zip not found. Please make sure it exists in the current directory.')\n",
    "    exit(1)"
   ]
  },
  {
   "cell_type": "code",
   "execution_count": null,
   "metadata": {},
   "outputs": [],
   "source": [
    "# First unzip tutorial contents\n",
    "import shutil\n",
    "shutil.unpack_archive('nb2_files.zip', 'nb2_files')\n",
    "\n",
    "notebook_files_path = 'nb2_files/nb2_files/'"
   ]
  },
  {
   "cell_type": "markdown",
   "metadata": {},
   "source": [
    "## 1. Using OpenAI's API"
   ]
  },
  {
   "cell_type": "markdown",
   "metadata": {},
   "source": [
    "You will need to add a payment method to your openAI account to get an API key. Once you have your API key, copy it and put it in a safe file on your device. Do not share it online, every time your API key is used, you will get a small charge."
   ]
  },
  {
   "cell_type": "code",
   "execution_count": 5,
   "metadata": {},
   "outputs": [],
   "source": [
    "API_KEY = \"\""
   ]
  },
  {
   "cell_type": "markdown",
   "metadata": {},
   "source": [
    "### 1.1 Define a function to access the model"
   ]
  },
  {
   "cell_type": "code",
   "execution_count": 6,
   "metadata": {},
   "outputs": [],
   "source": [
    "import glob\n",
    "import base64\n",
    "import requests\n",
    "import re"
   ]
  },
  {
   "cell_type": "code",
   "execution_count": 7,
   "metadata": {},
   "outputs": [],
   "source": [
    "# Simple function to take a path to an image and load it as a base64 encoded string\n",
    "def encode_image(image_path):\n",
    "    with open(image_path, \"rb\") as image_file:\n",
    "        return base64.b64encode(image_file.read()).decode('utf-8')"
   ]
  },
  {
   "cell_type": "code",
   "execution_count": 8,
   "metadata": {},
   "outputs": [],
   "source": [
    "def get_response(prompt, image_path):\n",
    "    # Getting the base64 string\n",
    "    base64_image = encode_image(image_path)\n",
    "\n",
    "    headers = {\n",
    "        \"Content-Type\": \"application/json\",\n",
    "        \"Authorization\": f\"Bearer {API_KEY}\"\n",
    "    }\n",
    "\n",
    "    payload = {\n",
    "        \"model\": \"gpt-4o\",\n",
    "        \"top_p\": 0.5,\n",
    "        \"messages\": [\n",
    "            {\n",
    "             \"role\": \"user\",\n",
    "             \"content\": [\n",
    "                {\n",
    "                 \"type\": \"text\",\n",
    "                 \"text\": prompt\n",
    "                },\n",
    "                {\n",
    "                 \"type\": \"image_url\",\n",
    "                 \"image_url\": {\n",
    "                    \"url\": f\"data:image/jpeg;base64,{base64_image}\"\n",
    "                 }\n",
    "                }\n",
    "             ]\n",
    "            }\n",
    "        ],\n",
    "        \"max_tokens\": 300\n",
    "    }\n",
    "\n",
    "    response = requests.post(\"https://api.openai.com/v1/chat/completions\",\n",
    "                             headers=headers, json=payload)\n",
    "\n",
    "    response_json = response.json()\n",
    "    return response_json"
   ]
  },
  {
   "cell_type": "code",
   "execution_count": 19,
   "metadata": {},
   "outputs": [],
   "source": [
    "def clean_response(response):\n",
    "    return response['choices'][0]['message']['content']"
   ]
  },
  {
   "cell_type": "markdown",
   "metadata": {},
   "source": [
    "### 1.2 Test the function\n",
    "\n",
    "Let's test if this function works."
   ]
  },
  {
   "cell_type": "code",
   "execution_count": null,
   "metadata": {},
   "outputs": [
    {
     "name": "stdout",
     "output_type": "stream",
     "text": [
      "In the image, people on a boat are interacting with a whale in the water. They are leaning over the side of the boat, touching and observing the whale, which is partially submerged. This appears to be a whale-watching or wildlife interaction activity.\n"
     ]
    }
   ],
   "source": [
    "text = \"What's happening in this image?\"\n",
    "resp = get_response(text, f\"{notebook_files_path}whale.jpg\")\n",
    "print(clean_response(resp))"
   ]
  }
 ],
 "metadata": {
  "kernelspec": {
   "display_name": "Python 3",
   "language": "python",
   "name": "python3"
  },
  "language_info": {
   "codemirror_mode": {
    "name": "ipython",
    "version": 3
   },
   "file_extension": ".py",
   "mimetype": "text/x-python",
   "name": "python",
   "nbconvert_exporter": "python",
   "pygments_lexer": "ipython3",
   "version": "3.11.7"
  }
 },
 "nbformat": 4,
 "nbformat_minor": 2
}
